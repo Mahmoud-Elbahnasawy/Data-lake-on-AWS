{
 "cells": [
  {
   "cell_type": "code",
   "execution_count": 1,
   "metadata": {
    "editable": true
   },
   "outputs": [],
   "source": [
    "from pyspark.sql import SparkSession\n",
    "from pyspark.sql.types import StructType, StringType, IntegerType, DoubleType, DateType, LongType, StructField, TimestampType\n",
    "from pyspark.sql.functions import udf, col, unix_timestamp, to_utc_timestamp, from_unixtime, to_date, dayofweek, monotonically_increasing_id\n",
    "from pyspark.sql.functions import year, month, dayofmonth, hour, weekofyear, date_format, weekofyear"
   ]
  },
  {
   "cell_type": "code",
   "execution_count": 2,
   "metadata": {
    "editable": true
   },
   "outputs": [],
   "source": [
    "spark = SparkSession \\\n",
    "    .builder \\\n",
    "    .appName(\"Practice_for_a_notebook\") \\\n",
    "    .getOrCreate()"
   ]
  },
  {
   "cell_type": "code",
   "execution_count": 3,
   "metadata": {
    "editable": true
   },
   "outputs": [],
   "source": [
    "log_data = spark.read.json(\"data/log-data/*.json\" )\n",
    "# i have to cast the data types\n",
    "# _c means casted\n",
    "log_data = log_data.withColumn(\"itemInSession_c\", log_data[\"itemInSession\"].cast(IntegerType())).drop(\"itemInSession\")\n",
    "log_data = log_data.withColumn(\"sessionId_c\", log_data[\"sessionId\"].cast(IntegerType())).drop(\"sessionId\")\n",
    "log_data = log_data.withColumn(\"status_c\", log_data[\"status\"].cast(IntegerType())).drop(\"status\")\n",
    "\n",
    "\n",
    "log_data = log_data.withColumn(\"as_date_C\", to_utc_timestamp(from_unixtime(col(\"ts\")/1000,'yyyy-MM-dd HH:mm:ss'),'EST')).drop(\"ts\")\n",
    "\n",
    "\n",
    "#df = log_data.withColumn(\"timestamp\",unix_timestamp(log_data.ts, 'yyyy/MM/dd HH:mm:ss').cast(TimestampType()))\n",
    "log_data = log_data.withColumn(\"userId_C\", log_data[\"userId\"].cast(IntegerType())).drop(\"userId\")"
   ]
  },
  {
   "cell_type": "code",
   "execution_count": 4,
   "metadata": {
    "editable": true
   },
   "outputs": [],
   "source": [
    "# before reading the file i had to specify my schema (explicit schema definintion)\n",
    "\n",
    "song_types = StructType([\n",
    "    StructField(\"artist_id\",StringType()),\n",
    "    StructField(\"artist_latitude\",StringType()),\n",
    "    StructField(\"artist_location\",StringType()),\n",
    "    StructField(\"artist_longitude\",StringType()),\n",
    "    StructField(\"artist_name\",StringType()),\n",
    "    StructField(\"duration\",DoubleType()),\n",
    "    StructField(\"num_songs\",IntegerType()),\n",
    "    StructField(\"song_id\",StringType()),\n",
    "    StructField(\"title\",StringType()),\n",
    "    StructField(\"year\",IntegerType())\n",
    "])\n",
    "\n",
    "song_data = spark.read.json(\"data/song-data/song_data/*/*/*/*.json\", schema = song_types)"
   ]
  },
  {
   "cell_type": "markdown",
   "metadata": {
    "editable": true
   },
   "source": [
    "# All Log Data"
   ]
  },
  {
   "cell_type": "code",
   "execution_count": 5,
   "metadata": {
    "editable": true
   },
   "outputs": [
    {
     "data": {
      "text/html": [
       "<div>\n",
       "<style scoped>\n",
       "    .dataframe tbody tr th:only-of-type {\n",
       "        vertical-align: middle;\n",
       "    }\n",
       "\n",
       "    .dataframe tbody tr th {\n",
       "        vertical-align: top;\n",
       "    }\n",
       "\n",
       "    .dataframe thead th {\n",
       "        text-align: right;\n",
       "    }\n",
       "</style>\n",
       "<table border=\"1\" class=\"dataframe\">\n",
       "  <thead>\n",
       "    <tr style=\"text-align: right;\">\n",
       "      <th></th>\n",
       "      <th>artist</th>\n",
       "      <th>auth</th>\n",
       "      <th>firstName</th>\n",
       "      <th>gender</th>\n",
       "      <th>lastName</th>\n",
       "      <th>length</th>\n",
       "      <th>level</th>\n",
       "      <th>location</th>\n",
       "      <th>method</th>\n",
       "      <th>page</th>\n",
       "      <th>registration</th>\n",
       "      <th>song</th>\n",
       "      <th>userAgent</th>\n",
       "      <th>itemInSession_c</th>\n",
       "      <th>sessionId_c</th>\n",
       "      <th>status_c</th>\n",
       "      <th>as_date_C</th>\n",
       "      <th>userId_C</th>\n",
       "    </tr>\n",
       "  </thead>\n",
       "  <tbody>\n",
       "    <tr>\n",
       "      <th>0</th>\n",
       "      <td>Harmonia</td>\n",
       "      <td>Logged In</td>\n",
       "      <td>Ryan</td>\n",
       "      <td>M</td>\n",
       "      <td>Smith</td>\n",
       "      <td>655.77751</td>\n",
       "      <td>free</td>\n",
       "      <td>San Jose-Sunnyvale-Santa Clara, CA</td>\n",
       "      <td>PUT</td>\n",
       "      <td>NextSong</td>\n",
       "      <td>1.541017e+12</td>\n",
       "      <td>Sehr kosmisch</td>\n",
       "      <td>\"Mozilla/5.0 (X11; Linux x86_64) AppleWebKit/5...</td>\n",
       "      <td>0</td>\n",
       "      <td>583</td>\n",
       "      <td>200</td>\n",
       "      <td>2018-11-15 05:30:26</td>\n",
       "      <td>26.0</td>\n",
       "    </tr>\n",
       "    <tr>\n",
       "      <th>1</th>\n",
       "      <td>The Prodigy</td>\n",
       "      <td>Logged In</td>\n",
       "      <td>Ryan</td>\n",
       "      <td>M</td>\n",
       "      <td>Smith</td>\n",
       "      <td>260.07465</td>\n",
       "      <td>free</td>\n",
       "      <td>San Jose-Sunnyvale-Santa Clara, CA</td>\n",
       "      <td>PUT</td>\n",
       "      <td>NextSong</td>\n",
       "      <td>1.541017e+12</td>\n",
       "      <td>The Big Gundown</td>\n",
       "      <td>\"Mozilla/5.0 (X11; Linux x86_64) AppleWebKit/5...</td>\n",
       "      <td>1</td>\n",
       "      <td>583</td>\n",
       "      <td>200</td>\n",
       "      <td>2018-11-15 05:41:21</td>\n",
       "      <td>26.0</td>\n",
       "    </tr>\n",
       "    <tr>\n",
       "      <th>2</th>\n",
       "      <td>Train</td>\n",
       "      <td>Logged In</td>\n",
       "      <td>Ryan</td>\n",
       "      <td>M</td>\n",
       "      <td>Smith</td>\n",
       "      <td>205.45261</td>\n",
       "      <td>free</td>\n",
       "      <td>San Jose-Sunnyvale-Santa Clara, CA</td>\n",
       "      <td>PUT</td>\n",
       "      <td>NextSong</td>\n",
       "      <td>1.541017e+12</td>\n",
       "      <td>Marry Me</td>\n",
       "      <td>\"Mozilla/5.0 (X11; Linux x86_64) AppleWebKit/5...</td>\n",
       "      <td>2</td>\n",
       "      <td>583</td>\n",
       "      <td>200</td>\n",
       "      <td>2018-11-15 05:45:41</td>\n",
       "      <td>26.0</td>\n",
       "    </tr>\n",
       "    <tr>\n",
       "      <th>3</th>\n",
       "      <td>None</td>\n",
       "      <td>Logged In</td>\n",
       "      <td>Wyatt</td>\n",
       "      <td>M</td>\n",
       "      <td>Scott</td>\n",
       "      <td>NaN</td>\n",
       "      <td>free</td>\n",
       "      <td>Eureka-Arcata-Fortuna, CA</td>\n",
       "      <td>GET</td>\n",
       "      <td>Home</td>\n",
       "      <td>1.540872e+12</td>\n",
       "      <td>None</td>\n",
       "      <td>Mozilla/5.0 (Windows NT 6.1; WOW64; Trident/7....</td>\n",
       "      <td>0</td>\n",
       "      <td>563</td>\n",
       "      <td>200</td>\n",
       "      <td>2018-11-15 06:57:51</td>\n",
       "      <td>9.0</td>\n",
       "    </tr>\n",
       "    <tr>\n",
       "      <th>4</th>\n",
       "      <td>None</td>\n",
       "      <td>Logged In</td>\n",
       "      <td>Austin</td>\n",
       "      <td>M</td>\n",
       "      <td>Rosales</td>\n",
       "      <td>NaN</td>\n",
       "      <td>free</td>\n",
       "      <td>New York-Newark-Jersey City, NY-NJ-PA</td>\n",
       "      <td>GET</td>\n",
       "      <td>Home</td>\n",
       "      <td>1.541060e+12</td>\n",
       "      <td>None</td>\n",
       "      <td>Mozilla/5.0 (Windows NT 6.1; rv:31.0) Gecko/20...</td>\n",
       "      <td>0</td>\n",
       "      <td>521</td>\n",
       "      <td>200</td>\n",
       "      <td>2018-11-15 08:29:37</td>\n",
       "      <td>12.0</td>\n",
       "    </tr>\n",
       "    <tr>\n",
       "      <th>5</th>\n",
       "      <td>Sony Wonder</td>\n",
       "      <td>Logged In</td>\n",
       "      <td>Samuel</td>\n",
       "      <td>M</td>\n",
       "      <td>Gonzalez</td>\n",
       "      <td>218.06975</td>\n",
       "      <td>free</td>\n",
       "      <td>Houston-The Woodlands-Sugar Land, TX</td>\n",
       "      <td>PUT</td>\n",
       "      <td>NextSong</td>\n",
       "      <td>1.540493e+12</td>\n",
       "      <td>Blackbird</td>\n",
       "      <td>\"Mozilla/5.0 (Macintosh; Intel Mac OS X 10_9_4...</td>\n",
       "      <td>0</td>\n",
       "      <td>597</td>\n",
       "      <td>200</td>\n",
       "      <td>2018-11-15 08:44:09</td>\n",
       "      <td>61.0</td>\n",
       "    </tr>\n",
       "    <tr>\n",
       "      <th>6</th>\n",
       "      <td>None</td>\n",
       "      <td>Logged In</td>\n",
       "      <td>Samuel</td>\n",
       "      <td>M</td>\n",
       "      <td>Gonzalez</td>\n",
       "      <td>NaN</td>\n",
       "      <td>free</td>\n",
       "      <td>Houston-The Woodlands-Sugar Land, TX</td>\n",
       "      <td>GET</td>\n",
       "      <td>About</td>\n",
       "      <td>1.540493e+12</td>\n",
       "      <td>None</td>\n",
       "      <td>\"Mozilla/5.0 (Macintosh; Intel Mac OS X 10_9_4...</td>\n",
       "      <td>1</td>\n",
       "      <td>597</td>\n",
       "      <td>200</td>\n",
       "      <td>2018-11-15 08:44:20</td>\n",
       "      <td>61.0</td>\n",
       "    </tr>\n",
       "    <tr>\n",
       "      <th>7</th>\n",
       "      <td>None</td>\n",
       "      <td>Logged Out</td>\n",
       "      <td>None</td>\n",
       "      <td>None</td>\n",
       "      <td>None</td>\n",
       "      <td>NaN</td>\n",
       "      <td>paid</td>\n",
       "      <td>None</td>\n",
       "      <td>PUT</td>\n",
       "      <td>Login</td>\n",
       "      <td>NaN</td>\n",
       "      <td>None</td>\n",
       "      <td>None</td>\n",
       "      <td>0</td>\n",
       "      <td>602</td>\n",
       "      <td>307</td>\n",
       "      <td>2018-11-15 10:34:34</td>\n",
       "      <td>NaN</td>\n",
       "    </tr>\n",
       "    <tr>\n",
       "      <th>8</th>\n",
       "      <td>None</td>\n",
       "      <td>Logged In</td>\n",
       "      <td>Tegan</td>\n",
       "      <td>F</td>\n",
       "      <td>Levine</td>\n",
       "      <td>NaN</td>\n",
       "      <td>paid</td>\n",
       "      <td>Portland-South Portland, ME</td>\n",
       "      <td>GET</td>\n",
       "      <td>Home</td>\n",
       "      <td>1.540794e+12</td>\n",
       "      <td>None</td>\n",
       "      <td>\"Mozilla/5.0 (Macintosh; Intel Mac OS X 10_9_4...</td>\n",
       "      <td>1</td>\n",
       "      <td>602</td>\n",
       "      <td>200</td>\n",
       "      <td>2018-11-15 10:37:57</td>\n",
       "      <td>80.0</td>\n",
       "    </tr>\n",
       "    <tr>\n",
       "      <th>9</th>\n",
       "      <td>Van Halen</td>\n",
       "      <td>Logged In</td>\n",
       "      <td>Tegan</td>\n",
       "      <td>F</td>\n",
       "      <td>Levine</td>\n",
       "      <td>289.38404</td>\n",
       "      <td>paid</td>\n",
       "      <td>Portland-South Portland, ME</td>\n",
       "      <td>PUT</td>\n",
       "      <td>NextSong</td>\n",
       "      <td>1.540794e+12</td>\n",
       "      <td>Best Of Both Worlds (Remastered Album Version)</td>\n",
       "      <td>\"Mozilla/5.0 (Macintosh; Intel Mac OS X 10_9_4...</td>\n",
       "      <td>2</td>\n",
       "      <td>602</td>\n",
       "      <td>200</td>\n",
       "      <td>2018-11-15 10:48:55</td>\n",
       "      <td>80.0</td>\n",
       "    </tr>\n",
       "  </tbody>\n",
       "</table>\n",
       "</div>"
      ],
      "text/plain": [
       "        artist        auth firstName gender  lastName     length level  \\\n",
       "0     Harmonia   Logged In      Ryan      M     Smith  655.77751  free   \n",
       "1  The Prodigy   Logged In      Ryan      M     Smith  260.07465  free   \n",
       "2        Train   Logged In      Ryan      M     Smith  205.45261  free   \n",
       "3         None   Logged In     Wyatt      M     Scott        NaN  free   \n",
       "4         None   Logged In    Austin      M   Rosales        NaN  free   \n",
       "5  Sony Wonder   Logged In    Samuel      M  Gonzalez  218.06975  free   \n",
       "6         None   Logged In    Samuel      M  Gonzalez        NaN  free   \n",
       "7         None  Logged Out      None   None      None        NaN  paid   \n",
       "8         None   Logged In     Tegan      F    Levine        NaN  paid   \n",
       "9    Van Halen   Logged In     Tegan      F    Levine  289.38404  paid   \n",
       "\n",
       "                                location method      page  registration  \\\n",
       "0     San Jose-Sunnyvale-Santa Clara, CA    PUT  NextSong  1.541017e+12   \n",
       "1     San Jose-Sunnyvale-Santa Clara, CA    PUT  NextSong  1.541017e+12   \n",
       "2     San Jose-Sunnyvale-Santa Clara, CA    PUT  NextSong  1.541017e+12   \n",
       "3              Eureka-Arcata-Fortuna, CA    GET      Home  1.540872e+12   \n",
       "4  New York-Newark-Jersey City, NY-NJ-PA    GET      Home  1.541060e+12   \n",
       "5   Houston-The Woodlands-Sugar Land, TX    PUT  NextSong  1.540493e+12   \n",
       "6   Houston-The Woodlands-Sugar Land, TX    GET     About  1.540493e+12   \n",
       "7                                   None    PUT     Login           NaN   \n",
       "8            Portland-South Portland, ME    GET      Home  1.540794e+12   \n",
       "9            Portland-South Portland, ME    PUT  NextSong  1.540794e+12   \n",
       "\n",
       "                                             song  \\\n",
       "0                                   Sehr kosmisch   \n",
       "1                                 The Big Gundown   \n",
       "2                                        Marry Me   \n",
       "3                                            None   \n",
       "4                                            None   \n",
       "5                                       Blackbird   \n",
       "6                                            None   \n",
       "7                                            None   \n",
       "8                                            None   \n",
       "9  Best Of Both Worlds (Remastered Album Version)   \n",
       "\n",
       "                                           userAgent  itemInSession_c  \\\n",
       "0  \"Mozilla/5.0 (X11; Linux x86_64) AppleWebKit/5...                0   \n",
       "1  \"Mozilla/5.0 (X11; Linux x86_64) AppleWebKit/5...                1   \n",
       "2  \"Mozilla/5.0 (X11; Linux x86_64) AppleWebKit/5...                2   \n",
       "3  Mozilla/5.0 (Windows NT 6.1; WOW64; Trident/7....                0   \n",
       "4  Mozilla/5.0 (Windows NT 6.1; rv:31.0) Gecko/20...                0   \n",
       "5  \"Mozilla/5.0 (Macintosh; Intel Mac OS X 10_9_4...                0   \n",
       "6  \"Mozilla/5.0 (Macintosh; Intel Mac OS X 10_9_4...                1   \n",
       "7                                               None                0   \n",
       "8  \"Mozilla/5.0 (Macintosh; Intel Mac OS X 10_9_4...                1   \n",
       "9  \"Mozilla/5.0 (Macintosh; Intel Mac OS X 10_9_4...                2   \n",
       "\n",
       "   sessionId_c  status_c           as_date_C  userId_C  \n",
       "0          583       200 2018-11-15 05:30:26      26.0  \n",
       "1          583       200 2018-11-15 05:41:21      26.0  \n",
       "2          583       200 2018-11-15 05:45:41      26.0  \n",
       "3          563       200 2018-11-15 06:57:51       9.0  \n",
       "4          521       200 2018-11-15 08:29:37      12.0  \n",
       "5          597       200 2018-11-15 08:44:09      61.0  \n",
       "6          597       200 2018-11-15 08:44:20      61.0  \n",
       "7          602       307 2018-11-15 10:34:34       NaN  \n",
       "8          602       200 2018-11-15 10:37:57      80.0  \n",
       "9          602       200 2018-11-15 10:48:55      80.0  "
      ]
     },
     "execution_count": 5,
     "metadata": {},
     "output_type": "execute_result"
    }
   ],
   "source": [
    "log_data.limit(100).toPandas().head(10)#.sort_values(by = \"song\").head(5)\n",
    "#log_data.filter(log_data.song == \"Floating\").show()#.toPandas().head()#.loc[1]['song']"
   ]
  },
  {
   "cell_type": "markdown",
   "metadata": {
    "editable": true
   },
   "source": [
    "# All song Data"
   ]
  },
  {
   "cell_type": "code",
   "execution_count": 6,
   "metadata": {
    "editable": true
   },
   "outputs": [
    {
     "data": {
      "text/html": [
       "<div>\n",
       "<style scoped>\n",
       "    .dataframe tbody tr th:only-of-type {\n",
       "        vertical-align: middle;\n",
       "    }\n",
       "\n",
       "    .dataframe tbody tr th {\n",
       "        vertical-align: top;\n",
       "    }\n",
       "\n",
       "    .dataframe thead th {\n",
       "        text-align: right;\n",
       "    }\n",
       "</style>\n",
       "<table border=\"1\" class=\"dataframe\">\n",
       "  <thead>\n",
       "    <tr style=\"text-align: right;\">\n",
       "      <th></th>\n",
       "      <th>artist_id</th>\n",
       "      <th>artist_latitude</th>\n",
       "      <th>artist_location</th>\n",
       "      <th>artist_longitude</th>\n",
       "      <th>artist_name</th>\n",
       "      <th>duration</th>\n",
       "      <th>num_songs</th>\n",
       "      <th>song_id</th>\n",
       "      <th>title</th>\n",
       "      <th>year</th>\n",
       "    </tr>\n",
       "  </thead>\n",
       "  <tbody>\n",
       "    <tr>\n",
       "      <th>0</th>\n",
       "      <td>ARDR4AC1187FB371A1</td>\n",
       "      <td>None</td>\n",
       "      <td></td>\n",
       "      <td>None</td>\n",
       "      <td>Montserrat Caballé;Placido Domingo;Vicente Sar...</td>\n",
       "      <td>511.16363</td>\n",
       "      <td>1</td>\n",
       "      <td>SOBAYLL12A8C138AF9</td>\n",
       "      <td>Sono andati? Fingevo di dormire</td>\n",
       "      <td>0</td>\n",
       "    </tr>\n",
       "    <tr>\n",
       "      <th>1</th>\n",
       "      <td>AREBBGV1187FB523D2</td>\n",
       "      <td>None</td>\n",
       "      <td>Houston, TX</td>\n",
       "      <td>None</td>\n",
       "      <td>Mike Jones (Featuring CJ_ Mello &amp; Lil' Bran)</td>\n",
       "      <td>173.66159</td>\n",
       "      <td>1</td>\n",
       "      <td>SOOLYAZ12A6701F4A6</td>\n",
       "      <td>Laws Patrolling (Album Version)</td>\n",
       "      <td>0</td>\n",
       "    </tr>\n",
       "    <tr>\n",
       "      <th>2</th>\n",
       "      <td>ARMAC4T1187FB3FA4C</td>\n",
       "      <td>40.82624</td>\n",
       "      <td>Morris Plains, NJ</td>\n",
       "      <td>-74.47995</td>\n",
       "      <td>The Dillinger Escape Plan</td>\n",
       "      <td>207.77751</td>\n",
       "      <td>1</td>\n",
       "      <td>SOBBUGU12A8C13E95D</td>\n",
       "      <td>Setting Fire to Sleeping Giants</td>\n",
       "      <td>2004</td>\n",
       "    </tr>\n",
       "    <tr>\n",
       "      <th>3</th>\n",
       "      <td>ARPBNLO1187FB3D52F</td>\n",
       "      <td>40.71455</td>\n",
       "      <td>New York, NY</td>\n",
       "      <td>-74.00712</td>\n",
       "      <td>Tiny Tim</td>\n",
       "      <td>43.36281</td>\n",
       "      <td>1</td>\n",
       "      <td>SOAOIBZ12AB01815BE</td>\n",
       "      <td>I Hold Your Hand In Mine [Live At Royal Albert...</td>\n",
       "      <td>2000</td>\n",
       "    </tr>\n",
       "    <tr>\n",
       "      <th>4</th>\n",
       "      <td>ARDNS031187B9924F0</td>\n",
       "      <td>32.67828</td>\n",
       "      <td>Georgia</td>\n",
       "      <td>-83.22295</td>\n",
       "      <td>Tim Wilson</td>\n",
       "      <td>186.48771</td>\n",
       "      <td>1</td>\n",
       "      <td>SONYPOM12A8C13B2D7</td>\n",
       "      <td>I Think My Wife Is Running Around On Me (Taco ...</td>\n",
       "      <td>2005</td>\n",
       "    </tr>\n",
       "  </tbody>\n",
       "</table>\n",
       "</div>"
      ],
      "text/plain": [
       "            artist_id artist_latitude    artist_location artist_longitude  \\\n",
       "0  ARDR4AC1187FB371A1            None                                None   \n",
       "1  AREBBGV1187FB523D2            None        Houston, TX             None   \n",
       "2  ARMAC4T1187FB3FA4C        40.82624  Morris Plains, NJ        -74.47995   \n",
       "3  ARPBNLO1187FB3D52F        40.71455       New York, NY        -74.00712   \n",
       "4  ARDNS031187B9924F0        32.67828            Georgia        -83.22295   \n",
       "\n",
       "                                         artist_name   duration  num_songs  \\\n",
       "0  Montserrat Caballé;Placido Domingo;Vicente Sar...  511.16363          1   \n",
       "1       Mike Jones (Featuring CJ_ Mello & Lil' Bran)  173.66159          1   \n",
       "2                          The Dillinger Escape Plan  207.77751          1   \n",
       "3                                           Tiny Tim   43.36281          1   \n",
       "4                                         Tim Wilson  186.48771          1   \n",
       "\n",
       "              song_id                                              title  year  \n",
       "0  SOBAYLL12A8C138AF9                    Sono andati? Fingevo di dormire     0  \n",
       "1  SOOLYAZ12A6701F4A6                    Laws Patrolling (Album Version)     0  \n",
       "2  SOBBUGU12A8C13E95D                    Setting Fire to Sleeping Giants  2004  \n",
       "3  SOAOIBZ12AB01815BE  I Hold Your Hand In Mine [Live At Royal Albert...  2000  \n",
       "4  SONYPOM12A8C13B2D7  I Think My Wife Is Running Around On Me (Taco ...  2005  "
      ]
     },
     "execution_count": 6,
     "metadata": {},
     "output_type": "execute_result"
    }
   ],
   "source": [
    "song_data.limit(71).toPandas().head(5)#.sort_values(by = \"title\").head(20)"
   ]
  },
  {
   "cell_type": "markdown",
   "metadata": {
    "editable": true
   },
   "source": [
    "# User Tbale"
   ]
  },
  {
   "cell_type": "code",
   "execution_count": 7,
   "metadata": {
    "editable": true
   },
   "outputs": [
    {
     "name": "stdout",
     "output_type": "stream",
     "text": [
      "+--------+---------+--------+------+-----+\n",
      "|userId_C|firstName|lastName|gender|level|\n",
      "+--------+---------+--------+------+-----+\n",
      "|      20|    Aiden| Ramirez|     M| paid|\n",
      "|       4|   Alivia| Terrell|     F| free|\n",
      "+--------+---------+--------+------+-----+\n",
      "only showing top 2 rows\n",
      "\n"
     ]
    }
   ],
   "source": [
    "user_table_column_list = [\"userId_C\",\"firstName\",\"lastName\",\"gender\",\"level\"]\n",
    "user_table_df = log_data.select(*user_table_column_list).distinct()\n",
    "user_table_df.show(2)"
   ]
  },
  {
   "cell_type": "markdown",
   "metadata": {
    "editable": true
   },
   "source": [
    "# Song Table"
   ]
  },
  {
   "cell_type": "code",
   "execution_count": 8,
   "metadata": {
    "editable": true
   },
   "outputs": [
    {
     "name": "stdout",
     "output_type": "stream",
     "text": [
      "+------------------+--------------------+------------------+----+---------+\n",
      "|           song_id|               title|         artist_id|year| duration|\n",
      "+------------------+--------------------+------------------+----+---------+\n",
      "|SOFFKZS12AB017F194|A Higher Place (A...|ARBEBBY1187B9B43DB|1994|236.17261|\n",
      "|SODREIN12A58A7F2E5|A Whiter Shade Of...|ARLTWXK1187FB5A3F8|   0|326.00771|\n",
      "|SOXVLOJ12AB0189215|     Amor De Cabaret|ARKRRTF1187B9984DA|   0|177.47546|\n",
      "|SORAMLE12AB017C8B0|      Auguri Cha Cha|ARHHO3O1187B989413|   0|191.84281|\n",
      "|SOZHPGD12A8C1394FE|     Baby Come To Me|AR9AWNF1187B9AB0B4|   0|236.93016|\n",
      "+------------------+--------------------+------------------+----+---------+\n",
      "only showing top 5 rows\n",
      "\n"
     ]
    }
   ],
   "source": [
    "song_table_column_list = [\"song_id\",\"title\",\"artist_id\",\"year\",\"duration\"]\n",
    "song_table_df = song_data.select(*song_table_column_list).distinct()\n",
    "song_table_df.count()\n",
    "song_table_df.orderBy(song_table_df.title).limit(10).show(5)\n",
    "#song_table_df.select(song_table_df.title).limit(12).orderBy(song_table_df.title).show(70,truncate = False)\n",
    "#song_table_df.filter(song_table_df.title == \"The Big Gundown\").show()"
   ]
  },
  {
   "cell_type": "markdown",
   "metadata": {
    "editable": true
   },
   "source": [
    "# artist_table"
   ]
  },
  {
   "cell_type": "code",
   "execution_count": 9,
   "metadata": {
    "editable": true
   },
   "outputs": [
    {
     "name": "stdout",
     "output_type": "stream",
     "text": [
      "+------------------+---------------+---------------+----------------+---------------+\n",
      "|         artist_id|    artist_name|artist_location|artist_longitude|artist_latitude|\n",
      "+------------------+---------------+---------------+----------------+---------------+\n",
      "|ARAJPHH1187FB5566A|The Shangri-Las|     Queens, NY|       -73.83168|        40.7038|\n",
      "|AR0IAWL1187B9A96D0|   Danilo Perez|         Panama|       -80.11278|         8.4177|\n",
      "+------------------+---------------+---------------+----------------+---------------+\n",
      "only showing top 2 rows\n",
      "\n"
     ]
    }
   ],
   "source": [
    "artist_table_column_list = [\"artist_id\",\"artist_name\",\"artist_location\",\"artist_longitude\",\"artist_latitude\"]\n",
    "artist_table_df = song_data.select(*artist_table_column_list).distinct()\n",
    "artist_table_df.show(2)"
   ]
  },
  {
   "cell_type": "markdown",
   "metadata": {
    "editable": true
   },
   "source": [
    "# Time table"
   ]
  },
  {
   "cell_type": "code",
   "execution_count": 10,
   "metadata": {
    "editable": true
   },
   "outputs": [
    {
     "name": "stdout",
     "output_type": "stream",
     "text": [
      "+---------+----+---+----+-----+----+--------+\n",
      "|star_time|hour|day|week|month|year|week_day|\n",
      "+---------+----+---+----+-----+----+--------+\n",
      "| 05:30:26|   5| 15|  46|   11|2018|       5|\n",
      "| 05:41:21|   5| 15|  46|   11|2018|       5|\n",
      "+---------+----+---+----+-----+----+--------+\n",
      "only showing top 2 rows\n",
      "\n"
     ]
    }
   ],
   "source": [
    "time_table = log_data.\\\n",
    "withColumn(\"star_time\", date_format(log_data.as_date_C,\"HH:mm:ss\")).\\\n",
    "withColumn('hour',date_format(log_data.as_date_C ,\"h\")).\\\n",
    "withColumn('day',date_format(log_data.as_date_C ,\"d\")).\\\n",
    "withColumn('week',weekofyear(log_data.as_date_C)).\\\n",
    "withColumn('month',month(log_data.as_date_C)).\\\n",
    "withColumn('year',year(log_data.as_date_C)).\\\n",
    "withColumn('week_day',dayofweek(log_data.as_date_C)).\\\n",
    "select(\"star_time\",\"hour\",\"day\",\"week\",\"month\",\"year\",\"week_day\")\n",
    "time_table.show(2)"
   ]
  },
  {
   "cell_type": "code",
   "execution_count": 11,
   "metadata": {
    "editable": true
   },
   "outputs": [],
   "source": [
    "#To create the song play table i will use spark SQl\n",
    "log_data.createOrReplaceTempView(\"log_table\")\n",
    "song_table_df.createOrReplaceTempView(\"song_table\")\n",
    "#time_table.createOrReplaceTempView(\"time_table\")\n",
    "\n",
    "#song_play"
   ]
  },
  {
   "cell_type": "code",
   "execution_count": 12,
   "metadata": {
    "editable": true
   },
   "outputs": [
    {
     "name": "stdout",
     "output_type": "stream",
     "text": [
      "6820\n"
     ]
    },
    {
     "ename": "KeyboardInterrupt",
     "evalue": "",
     "output_type": "error",
     "traceback": [
      "\u001b[0;31m---------------------------------------------------------------------------\u001b[0m",
      "\u001b[0;31mKeyboardInterrupt\u001b[0m                         Traceback (most recent call last)",
      "\u001b[0;32m<ipython-input-12-ba56b5b11d73>\u001b[0m in \u001b[0;36m<module>\u001b[0;34m()\u001b[0m\n\u001b[1;32m     21\u001b[0m         \u001b[0;32mbreak\u001b[0m\u001b[0;34m\u001b[0m\u001b[0m\n\u001b[1;32m     22\u001b[0m     \u001b[0;32melse\u001b[0m \u001b[0;34m:\u001b[0m\u001b[0;34m\u001b[0m\u001b[0m\n\u001b[0;32m---> 23\u001b[0;31m         \u001b[0mjoiner\u001b[0m\u001b[0;34m(\u001b[0m\u001b[0mi\u001b[0m\u001b[0;34m)\u001b[0m\u001b[0;34m\u001b[0m\u001b[0m\n\u001b[0m\u001b[1;32m     24\u001b[0m         \u001b[0mcounter\u001b[0m \u001b[0;34m+=\u001b[0m\u001b[0;36m1\u001b[0m\u001b[0;34m\u001b[0m\u001b[0m\n\u001b[1;32m     25\u001b[0m \u001b[0;34m\u001b[0m\u001b[0m\n",
      "\u001b[0;32m<ipython-input-12-ba56b5b11d73>\u001b[0m in \u001b[0;36mjoiner\u001b[0;34m(song_name)\u001b[0m\n\u001b[1;32m      9\u001b[0m         \u001b[0mAND\u001b[0m \u001b[0mRETURNS\u001b[0m \u001b[0mTHE\u001b[0m \u001b[0mSONG_ID\u001b[0m \u001b[0;34m,\u001b[0m \u001b[0mARTIST_ID\u001b[0m \u001b[0mTO\u001b[0m \u001b[0mAPPEND\u001b[0m \u001b[0mTHEM\u001b[0m \u001b[0mTO\u001b[0m \u001b[0mA\u001b[0m \u001b[0mLIST\u001b[0m \u001b[0mTHAT\u001b[0m \u001b[0mCONTAINS\u001b[0m \u001b[0mTHE\u001b[0m \u001b[0mSOND_ID\u001b[0m \u001b[0mAND\u001b[0m \u001b[0mARTIST_ID\u001b[0m\u001b[0;34m\u001b[0m\u001b[0m\n\u001b[1;32m     10\u001b[0m     \"\"\"\n\u001b[0;32m---> 11\u001b[0;31m     \u001b[0mlist_of_song_id\u001b[0m\u001b[0;34m.\u001b[0m\u001b[0mappend\u001b[0m\u001b[0;34m(\u001b[0m\u001b[0mfilter_song_table_df\u001b[0m\u001b[0;34m.\u001b[0m\u001b[0mfilter\u001b[0m\u001b[0;34m(\u001b[0m\u001b[0mfilter_song_table_df\u001b[0m\u001b[0;34m.\u001b[0m\u001b[0mtitle\u001b[0m \u001b[0;34m==\u001b[0m \u001b[0;34m\"{}\"\u001b[0m\u001b[0;34m.\u001b[0m\u001b[0mformat\u001b[0m\u001b[0;34m(\u001b[0m\u001b[0msong_name\u001b[0m\u001b[0;34m)\u001b[0m\u001b[0;34m)\u001b[0m\u001b[0;34m.\u001b[0m                           \u001b[0mselect\u001b[0m\u001b[0;34m(\u001b[0m\u001b[0;34m\"song_id\"\u001b[0m\u001b[0;34m,\u001b[0m\u001b[0;34m\"artist_id\"\u001b[0m\u001b[0;34m)\u001b[0m\u001b[0;34m.\u001b[0m\u001b[0mtoPandas\u001b[0m\u001b[0;34m(\u001b[0m\u001b[0;34m)\u001b[0m\u001b[0;34m.\u001b[0m\u001b[0mvalues\u001b[0m\u001b[0;34m.\u001b[0m\u001b[0mtolist\u001b[0m\u001b[0;34m(\u001b[0m\u001b[0;34m)\u001b[0m\u001b[0;34m)\u001b[0m\u001b[0;34m\u001b[0m\u001b[0m\n\u001b[0m\u001b[1;32m     12\u001b[0m \u001b[0;34m\u001b[0m\u001b[0m\n\u001b[1;32m     13\u001b[0m \u001b[0;31m#t0 = time.time()\u001b[0m\u001b[0;34m\u001b[0m\u001b[0;34m\u001b[0m\u001b[0m\n",
      "\u001b[0;32m/opt/spark-2.4.3-bin-hadoop2.7/python/pyspark/sql/dataframe.py\u001b[0m in \u001b[0;36mtoPandas\u001b[0;34m(self)\u001b[0m\n\u001b[1;32m   2140\u001b[0m \u001b[0;34m\u001b[0m\u001b[0m\n\u001b[1;32m   2141\u001b[0m         \u001b[0;31m# Below is toPandas without Arrow optimization.\u001b[0m\u001b[0;34m\u001b[0m\u001b[0;34m\u001b[0m\u001b[0m\n\u001b[0;32m-> 2142\u001b[0;31m         \u001b[0mpdf\u001b[0m \u001b[0;34m=\u001b[0m \u001b[0mpd\u001b[0m\u001b[0;34m.\u001b[0m\u001b[0mDataFrame\u001b[0m\u001b[0;34m.\u001b[0m\u001b[0mfrom_records\u001b[0m\u001b[0;34m(\u001b[0m\u001b[0mself\u001b[0m\u001b[0;34m.\u001b[0m\u001b[0mcollect\u001b[0m\u001b[0;34m(\u001b[0m\u001b[0;34m)\u001b[0m\u001b[0;34m,\u001b[0m \u001b[0mcolumns\u001b[0m\u001b[0;34m=\u001b[0m\u001b[0mself\u001b[0m\u001b[0;34m.\u001b[0m\u001b[0mcolumns\u001b[0m\u001b[0;34m)\u001b[0m\u001b[0;34m\u001b[0m\u001b[0m\n\u001b[0m\u001b[1;32m   2143\u001b[0m \u001b[0;34m\u001b[0m\u001b[0m\n\u001b[1;32m   2144\u001b[0m         \u001b[0mdtype\u001b[0m \u001b[0;34m=\u001b[0m \u001b[0;34m{\u001b[0m\u001b[0;34m}\u001b[0m\u001b[0;34m\u001b[0m\u001b[0m\n",
      "\u001b[0;32m/opt/spark-2.4.3-bin-hadoop2.7/python/pyspark/sql/dataframe.py\u001b[0m in \u001b[0;36mcollect\u001b[0;34m(self)\u001b[0m\n\u001b[1;32m    531\u001b[0m         \"\"\"\n\u001b[1;32m    532\u001b[0m         \u001b[0;32mwith\u001b[0m \u001b[0mSCCallSiteSync\u001b[0m\u001b[0;34m(\u001b[0m\u001b[0mself\u001b[0m\u001b[0;34m.\u001b[0m\u001b[0m_sc\u001b[0m\u001b[0;34m)\u001b[0m \u001b[0;32mas\u001b[0m \u001b[0mcss\u001b[0m\u001b[0;34m:\u001b[0m\u001b[0;34m\u001b[0m\u001b[0m\n\u001b[0;32m--> 533\u001b[0;31m             \u001b[0msock_info\u001b[0m \u001b[0;34m=\u001b[0m \u001b[0mself\u001b[0m\u001b[0;34m.\u001b[0m\u001b[0m_jdf\u001b[0m\u001b[0;34m.\u001b[0m\u001b[0mcollectToPython\u001b[0m\u001b[0;34m(\u001b[0m\u001b[0;34m)\u001b[0m\u001b[0;34m\u001b[0m\u001b[0m\n\u001b[0m\u001b[1;32m    534\u001b[0m         \u001b[0;32mreturn\u001b[0m \u001b[0mlist\u001b[0m\u001b[0;34m(\u001b[0m\u001b[0m_load_from_socket\u001b[0m\u001b[0;34m(\u001b[0m\u001b[0msock_info\u001b[0m\u001b[0;34m,\u001b[0m \u001b[0mBatchedSerializer\u001b[0m\u001b[0;34m(\u001b[0m\u001b[0mPickleSerializer\u001b[0m\u001b[0;34m(\u001b[0m\u001b[0;34m)\u001b[0m\u001b[0;34m)\u001b[0m\u001b[0;34m)\u001b[0m\u001b[0;34m)\u001b[0m\u001b[0;34m\u001b[0m\u001b[0m\n\u001b[1;32m    535\u001b[0m \u001b[0;34m\u001b[0m\u001b[0m\n",
      "\u001b[0;32m/opt/spark-2.4.3-bin-hadoop2.7/python/lib/py4j-0.10.7-src.zip/py4j/java_gateway.py\u001b[0m in \u001b[0;36m__call__\u001b[0;34m(self, *args)\u001b[0m\n\u001b[1;32m   1253\u001b[0m             \u001b[0mproto\u001b[0m\u001b[0;34m.\u001b[0m\u001b[0mEND_COMMAND_PART\u001b[0m\u001b[0;34m\u001b[0m\u001b[0m\n\u001b[1;32m   1254\u001b[0m \u001b[0;34m\u001b[0m\u001b[0m\n\u001b[0;32m-> 1255\u001b[0;31m         \u001b[0manswer\u001b[0m \u001b[0;34m=\u001b[0m \u001b[0mself\u001b[0m\u001b[0;34m.\u001b[0m\u001b[0mgateway_client\u001b[0m\u001b[0;34m.\u001b[0m\u001b[0msend_command\u001b[0m\u001b[0;34m(\u001b[0m\u001b[0mcommand\u001b[0m\u001b[0;34m)\u001b[0m\u001b[0;34m\u001b[0m\u001b[0m\n\u001b[0m\u001b[1;32m   1256\u001b[0m         return_value = get_return_value(\n\u001b[1;32m   1257\u001b[0m             answer, self.gateway_client, self.target_id, self.name)\n",
      "\u001b[0;32m/opt/spark-2.4.3-bin-hadoop2.7/python/lib/py4j-0.10.7-src.zip/py4j/java_gateway.py\u001b[0m in \u001b[0;36msend_command\u001b[0;34m(self, command, retry, binary)\u001b[0m\n\u001b[1;32m    983\u001b[0m         \u001b[0mconnection\u001b[0m \u001b[0;34m=\u001b[0m \u001b[0mself\u001b[0m\u001b[0;34m.\u001b[0m\u001b[0m_get_connection\u001b[0m\u001b[0;34m(\u001b[0m\u001b[0;34m)\u001b[0m\u001b[0;34m\u001b[0m\u001b[0m\n\u001b[1;32m    984\u001b[0m         \u001b[0;32mtry\u001b[0m\u001b[0;34m:\u001b[0m\u001b[0;34m\u001b[0m\u001b[0m\n\u001b[0;32m--> 985\u001b[0;31m             \u001b[0mresponse\u001b[0m \u001b[0;34m=\u001b[0m \u001b[0mconnection\u001b[0m\u001b[0;34m.\u001b[0m\u001b[0msend_command\u001b[0m\u001b[0;34m(\u001b[0m\u001b[0mcommand\u001b[0m\u001b[0;34m)\u001b[0m\u001b[0;34m\u001b[0m\u001b[0m\n\u001b[0m\u001b[1;32m    986\u001b[0m             \u001b[0;32mif\u001b[0m \u001b[0mbinary\u001b[0m\u001b[0;34m:\u001b[0m\u001b[0;34m\u001b[0m\u001b[0m\n\u001b[1;32m    987\u001b[0m                 \u001b[0;32mreturn\u001b[0m \u001b[0mresponse\u001b[0m\u001b[0;34m,\u001b[0m \u001b[0mself\u001b[0m\u001b[0;34m.\u001b[0m\u001b[0m_create_connection_guard\u001b[0m\u001b[0;34m(\u001b[0m\u001b[0mconnection\u001b[0m\u001b[0;34m)\u001b[0m\u001b[0;34m\u001b[0m\u001b[0m\n",
      "\u001b[0;32m/opt/spark-2.4.3-bin-hadoop2.7/python/lib/py4j-0.10.7-src.zip/py4j/java_gateway.py\u001b[0m in \u001b[0;36msend_command\u001b[0;34m(self, command)\u001b[0m\n\u001b[1;32m   1150\u001b[0m \u001b[0;34m\u001b[0m\u001b[0m\n\u001b[1;32m   1151\u001b[0m         \u001b[0;32mtry\u001b[0m\u001b[0;34m:\u001b[0m\u001b[0;34m\u001b[0m\u001b[0m\n\u001b[0;32m-> 1152\u001b[0;31m             \u001b[0manswer\u001b[0m \u001b[0;34m=\u001b[0m \u001b[0msmart_decode\u001b[0m\u001b[0;34m(\u001b[0m\u001b[0mself\u001b[0m\u001b[0;34m.\u001b[0m\u001b[0mstream\u001b[0m\u001b[0;34m.\u001b[0m\u001b[0mreadline\u001b[0m\u001b[0;34m(\u001b[0m\u001b[0;34m)\u001b[0m\u001b[0;34m[\u001b[0m\u001b[0;34m:\u001b[0m\u001b[0;34m-\u001b[0m\u001b[0;36m1\u001b[0m\u001b[0;34m]\u001b[0m\u001b[0;34m)\u001b[0m\u001b[0;34m\u001b[0m\u001b[0m\n\u001b[0m\u001b[1;32m   1153\u001b[0m             \u001b[0mlogger\u001b[0m\u001b[0;34m.\u001b[0m\u001b[0mdebug\u001b[0m\u001b[0;34m(\u001b[0m\u001b[0;34m\"Answer received: {0}\"\u001b[0m\u001b[0;34m.\u001b[0m\u001b[0mformat\u001b[0m\u001b[0;34m(\u001b[0m\u001b[0manswer\u001b[0m\u001b[0;34m)\u001b[0m\u001b[0;34m)\u001b[0m\u001b[0;34m\u001b[0m\u001b[0m\n\u001b[1;32m   1154\u001b[0m             \u001b[0;32mif\u001b[0m \u001b[0manswer\u001b[0m\u001b[0;34m.\u001b[0m\u001b[0mstartswith\u001b[0m\u001b[0;34m(\u001b[0m\u001b[0mproto\u001b[0m\u001b[0;34m.\u001b[0m\u001b[0mRETURN_MESSAGE\u001b[0m\u001b[0;34m)\u001b[0m\u001b[0;34m:\u001b[0m\u001b[0;34m\u001b[0m\u001b[0m\n",
      "\u001b[0;32m/opt/conda/lib/python3.6/socket.py\u001b[0m in \u001b[0;36mreadinto\u001b[0;34m(self, b)\u001b[0m\n\u001b[1;32m    584\u001b[0m         \u001b[0;32mwhile\u001b[0m \u001b[0;32mTrue\u001b[0m\u001b[0;34m:\u001b[0m\u001b[0;34m\u001b[0m\u001b[0m\n\u001b[1;32m    585\u001b[0m             \u001b[0;32mtry\u001b[0m\u001b[0;34m:\u001b[0m\u001b[0;34m\u001b[0m\u001b[0m\n\u001b[0;32m--> 586\u001b[0;31m                 \u001b[0;32mreturn\u001b[0m \u001b[0mself\u001b[0m\u001b[0;34m.\u001b[0m\u001b[0m_sock\u001b[0m\u001b[0;34m.\u001b[0m\u001b[0mrecv_into\u001b[0m\u001b[0;34m(\u001b[0m\u001b[0mb\u001b[0m\u001b[0;34m)\u001b[0m\u001b[0;34m\u001b[0m\u001b[0m\n\u001b[0m\u001b[1;32m    587\u001b[0m             \u001b[0;32mexcept\u001b[0m \u001b[0mtimeout\u001b[0m\u001b[0;34m:\u001b[0m\u001b[0;34m\u001b[0m\u001b[0m\n\u001b[1;32m    588\u001b[0m                 \u001b[0mself\u001b[0m\u001b[0;34m.\u001b[0m\u001b[0m_timeout_occurred\u001b[0m \u001b[0;34m=\u001b[0m \u001b[0;32mTrue\u001b[0m\u001b[0;34m\u001b[0m\u001b[0m\n",
      "\u001b[0;31mKeyboardInterrupt\u001b[0m: "
     ]
    }
   ],
   "source": [
    "# first we need to define a udf function to do the join job need for the songplay table\n",
    "# for simplicity i will make a dictionary with key that equals to the song name and it's values will be the song_id and artist_id\n",
    "import time\n",
    "list_of_song_id = []\n",
    "#unique = set()\n",
    "filter_song_table_df  = song_table_df.select(\"song_id\",\"artist_id\",\"title\")\n",
    "def joiner(song_name):\n",
    "    \"\"\"THIS FUNCTION SEARCHES FOR A SONG_NAME IN THE SONG_DATA\n",
    "        AND RETURNS THE SONG_ID , ARTIST_ID TO APPEND THEM TO A LIST THAT CONTAINS THE SOND_ID AND ARTIST_ID\n",
    "    \"\"\"\n",
    "    list_of_song_id.append(filter_song_table_df.filter(filter_song_table_df.title == \"{}\".format(song_name)).\\\n",
    "                           select(\"song_id\",\"artist_id\").toPandas().values.tolist())\n",
    "\n",
    "#t0 = time.time()\n",
    "songs_from_log_data = [ x for x in log_data.rdd.map(lambda x: x[11]).collect() if x != None]\n",
    "#print(\"after list comprehension\" , time.time()-t0)\n",
    "print(len(songs_from_log_data))\n",
    "c = time.time()\n",
    "counter =0\n",
    "for i in songs_from_log_data:\n",
    "    if counter >100:\n",
    "        break\n",
    "    else :\n",
    "        joiner(i)\n",
    "        counter +=1\n",
    "\n",
    "\n",
    "print(time.time()-c)\n",
    "\n",
    "# i may use the song_table directly to get the song_id and artist_id but i will \n",
    "#make the song dictionary so that whenever i find the key i delete it \n"
   ]
  },
  {
   "cell_type": "code",
   "execution_count": null,
   "metadata": {
    "editable": true
   },
   "outputs": [],
   "source": [
    "song_name = \"A Higher Place (Album Version)\"\n",
    "song_table_df.filter(song_table_df.title == \"{}\".format(song_name)).select(\"song_id\",\"artist_id\").toPandas().values.tolist()"
   ]
  },
  {
   "cell_type": "code",
   "execution_count": 13,
   "metadata": {
    "editable": true
   },
   "outputs": [
    {
     "ename": "AttributeError",
     "evalue": "'DataFrame' object has no attribute 'as_date_C'",
     "output_type": "error",
     "traceback": [
      "\u001b[0;31m---------------------------------------------------------------------------\u001b[0m",
      "\u001b[0;31mAttributeError\u001b[0m                            Traceback (most recent call last)",
      "\u001b[0;32m<ipython-input-13-ee57c7f88023>\u001b[0m in \u001b[0;36m<module>\u001b[0;34m()\u001b[0m\n\u001b[1;32m      9\u001b[0m \u001b[0msongplay_table\u001b[0m \u001b[0;34m=\u001b[0m \u001b[0msongplay_table\u001b[0m\u001b[0;34m.\u001b[0m\u001b[0mwithColumn\u001b[0m\u001b[0;34m(\u001b[0m\u001b[0;34m\"star_time\"\u001b[0m\u001b[0;34m,\u001b[0m \u001b[0mdate_format\u001b[0m\u001b[0;34m(\u001b[0m\u001b[0msongplay_table\u001b[0m\u001b[0;34m.\u001b[0m\u001b[0mas_date_C\u001b[0m\u001b[0;34m,\u001b[0m\u001b[0;34m\"HH:mm:ss\"\u001b[0m\u001b[0;34m)\u001b[0m\u001b[0;34m)\u001b[0m\u001b[0;34m.\u001b[0m\u001b[0mdrop\u001b[0m\u001b[0;34m(\u001b[0m\u001b[0msongplay_table\u001b[0m\u001b[0;34m.\u001b[0m\u001b[0mas_date_C\u001b[0m\u001b[0;34m)\u001b[0m\u001b[0;34m\u001b[0m\u001b[0m\n\u001b[1;32m     10\u001b[0m \u001b[0;34m\u001b[0m\u001b[0m\n\u001b[0;32m---> 11\u001b[0;31m \u001b[0msongplay_table\u001b[0m \u001b[0;34m=\u001b[0m \u001b[0msongplay_table\u001b[0m\u001b[0;34m.\u001b[0m\u001b[0mwithColumn\u001b[0m\u001b[0;34m(\u001b[0m\u001b[0;34m\"song_id\"\u001b[0m\u001b[0;34m,\u001b[0m \u001b[0;34m(\u001b[0m\u001b[0msong_table_df\u001b[0m\u001b[0;34m.\u001b[0m\u001b[0mas_date_C\u001b[0m\u001b[0;34m,\u001b[0m\u001b[0;34m\"HH:mm:ss\"\u001b[0m\u001b[0;34m)\u001b[0m\u001b[0;34m)\u001b[0m\u001b[0;34m.\u001b[0m\u001b[0mdrop\u001b[0m\u001b[0;34m(\u001b[0m\u001b[0msongplay_table\u001b[0m\u001b[0;34m.\u001b[0m\u001b[0mas_date_C\u001b[0m\u001b[0;34m)\u001b[0m\u001b[0;34m\u001b[0m\u001b[0m\n\u001b[0m\u001b[1;32m     12\u001b[0m \u001b[0;34m\u001b[0m\u001b[0m\n\u001b[1;32m     13\u001b[0m \u001b[0msongplay_table\u001b[0m\u001b[0;34m.\u001b[0m\u001b[0mshow\u001b[0m\u001b[0;34m(\u001b[0m\u001b[0;36m2\u001b[0m\u001b[0;34m)\u001b[0m\u001b[0;34m\u001b[0m\u001b[0m\n",
      "\u001b[0;32m/opt/spark-2.4.3-bin-hadoop2.7/python/pyspark/sql/dataframe.py\u001b[0m in \u001b[0;36m__getattr__\u001b[0;34m(self, name)\u001b[0m\n\u001b[1;32m   1298\u001b[0m         \u001b[0;32mif\u001b[0m \u001b[0mname\u001b[0m \u001b[0;32mnot\u001b[0m \u001b[0;32min\u001b[0m \u001b[0mself\u001b[0m\u001b[0;34m.\u001b[0m\u001b[0mcolumns\u001b[0m\u001b[0;34m:\u001b[0m\u001b[0;34m\u001b[0m\u001b[0m\n\u001b[1;32m   1299\u001b[0m             raise AttributeError(\n\u001b[0;32m-> 1300\u001b[0;31m                 \"'%s' object has no attribute '%s'\" % (self.__class__.__name__, name))\n\u001b[0m\u001b[1;32m   1301\u001b[0m         \u001b[0mjc\u001b[0m \u001b[0;34m=\u001b[0m \u001b[0mself\u001b[0m\u001b[0;34m.\u001b[0m\u001b[0m_jdf\u001b[0m\u001b[0;34m.\u001b[0m\u001b[0mapply\u001b[0m\u001b[0;34m(\u001b[0m\u001b[0mname\u001b[0m\u001b[0;34m)\u001b[0m\u001b[0;34m\u001b[0m\u001b[0m\n\u001b[1;32m   1302\u001b[0m         \u001b[0;32mreturn\u001b[0m \u001b[0mColumn\u001b[0m\u001b[0;34m(\u001b[0m\u001b[0mjc\u001b[0m\u001b[0;34m)\u001b[0m\u001b[0;34m\u001b[0m\u001b[0m\n",
      "\u001b[0;31mAttributeError\u001b[0m: 'DataFrame' object has no attribute 'as_date_C'"
     ]
    }
   ],
   "source": [
    "song_play_column_list = [\"as_date_C\",\"userId_C\",\"level\",\"sessionId_c\",\"location\",\"userAgent\"]\n",
    "\n",
    "\n",
    "\n",
    "songplay_table = log_data.select(*song_play_column_list)\n",
    "\n",
    "\n",
    "# casting the time stamp to be time only\n",
    "songplay_table = songplay_table.withColumn(\"star_time\", date_format(songplay_table.as_date_C,\"HH:mm:ss\")).drop(songplay_table.as_date_C)\n",
    "\n",
    "songplay_table = songplay_table.withColumn(\"song_id\", (song_table_df.as_date_C,\"HH:mm:ss\")).drop(songplay_table.as_date_C)\n",
    "\n",
    "songplay_table.show(2)\n",
    "\n",
    "\n",
    "\n",
    "#songplay_table = log_data.\\\n",
    "#withColumn(\"start_time\", date_format(log_data.as_date_C , \"HH:mm:ss\")).\\\n",
    "#withColumn(\"user_id\", log_data.userId_C).\\\n"
   ]
  },
  {
   "cell_type": "code",
   "execution_count": null,
   "metadata": {
    "editable": true
   },
   "outputs": [],
   "source": []
  },
  {
   "cell_type": "code",
   "execution_count": null,
   "metadata": {
    "editable": true
   },
   "outputs": [],
   "source": [
    "spark.sql(\"\"\"SELECT star_time FROM time_table t JOIN DEPT d ON e.emp_dept_id == d.dept_id\"\"\") \\\n",
    ".show(truncate=False)"
   ]
  },
  {
   "cell_type": "code",
   "execution_count": null,
   "metadata": {
    "editable": true
   },
   "outputs": [],
   "source": []
  },
  {
   "cell_type": "code",
   "execution_count": null,
   "metadata": {
    "editable": true
   },
   "outputs": [],
   "source": []
  },
  {
   "cell_type": "code",
   "execution_count": null,
   "metadata": {
    "editable": true
   },
   "outputs": [],
   "source": []
  },
  {
   "cell_type": "code",
   "execution_count": 91,
   "metadata": {
    "editable": true
   },
   "outputs": [
    {
     "data": {
      "text/plain": [
       "[['Sehr kosmisch'],\n",
       " ['The Big Gundown'],\n",
       " ['Marry Me'],\n",
       " [None],\n",
       " [None],\n",
       " ['Blackbird'],\n",
       " [None],\n",
       " [None],\n",
       " [None],\n",
       " ['Best Of Both Worlds (Remastered Album Version)']]"
      ]
     },
     "execution_count": 91,
     "metadata": {},
     "output_type": "execute_result"
    }
   ],
   "source": [
    "log_data.select(log_data.song).toPandas().values.tolist()[:10]"
   ]
  },
  {
   "cell_type": "code",
   "execution_count": 13,
   "metadata": {
    "editable": true
   },
   "outputs": [
    {
     "data": {
      "text/plain": [
       "list"
      ]
     },
     "execution_count": 13,
     "metadata": {},
     "output_type": "execute_result"
    }
   ],
   "source": [
    "b_tolist=log_data.rdd.map(lambda x: x[0]).collect()\n",
    "type(b_tolist)"
   ]
  },
  {
   "cell_type": "code",
   "execution_count": 18,
   "metadata": {
    "editable": true
   },
   "outputs": [
    {
     "data": {
      "text/plain": [
       "['Harmonia',\n",
       " 'The Prodigy',\n",
       " 'Train',\n",
       " None,\n",
       " None,\n",
       " 'Sony Wonder',\n",
       " None,\n",
       " None,\n",
       " None,\n",
       " 'Van Halen']"
      ]
     },
     "execution_count": 18,
     "metadata": {},
     "output_type": "execute_result"
    }
   ],
   "source": [
    "b_tolist[:10]\n",
    "#print(len(b_tolist))"
   ]
  },
  {
   "cell_type": "code",
   "execution_count": 36,
   "metadata": {
    "editable": true
   },
   "outputs": [
    {
     "data": {
      "text/plain": [
       "['one', 'two']"
      ]
     },
     "execution_count": 36,
     "metadata": {},
     "output_type": "execute_result"
    }
   ],
   "source": [
    "w = [None , \"one\",\"two\"]\n",
    "y = [ f for f in w if f != None]\n",
    "y"
   ]
  },
  {
   "cell_type": "markdown",
   "metadata": {
    "editable": true
   },
   "source": [
    "# trying join"
   ]
  },
  {
   "cell_type": "code",
   "execution_count": 14,
   "metadata": {
    "editable": true
   },
   "outputs": [
    {
     "name": "stdout",
     "output_type": "stream",
     "text": [
      "+-----------+---------+-------+-----+------------------+------------------+----------+--------------------+--------------------+\n",
      "|songplay_id|star_time|user_id|level|           song_id|         artist_id|session_id|            location|           userAgent|\n",
      "+-----------+---------+-------+-----+------------------+------------------+----------+--------------------+--------------------+\n",
      "|          1| 01:32:47|     44| paid|SOBONFF12A6D4F84D8|ARIK43K1187B9AE54C|       619|Waterloo-Cedar Fa...|Mozilla/5.0 (Maci...|\n",
      "+-----------+---------+-------+-----+------------------+------------------+----------+--------------------+--------------------+\n",
      "only showing top 1 row\n",
      "\n"
     ]
    }
   ],
   "source": [
    "# apply inner join \n",
    "joined_df = log_data.join(song_data, log_data.artist == song_data.artist_name, 'inner')\n",
    "\n",
    "# selecting columns from the joined dataframe\n",
    "song_play_column_list = [\"songplay_id\",\"as_date_C\",\"userId_C\",\"level\",\"song_id\",\"artist_id\",\"sessionId_c\",\"location\",\"userAgent\"]\n",
    "\n",
    "#adding  a column for the songplay id column using a built in function (monotonically_increasing_id)\n",
    "joined_df = joined_df.withColumn(\"songplay_id\",(monotonically_increasing_id()+1))\n",
    "\n",
    "#appying the select statement to pick up only considered columns\n",
    "joined_df = joined_df.select(*song_play_column_list)\n",
    "\n",
    "#extracting the time from the timestamp column (as_data_C) and dropping the old column as_data_C\n",
    "joined_df = joined_df.withColumn(\"star_time\", date_format(joined_df.as_date_C,\"HH:mm:ss\")).drop(\"as_date_C\")\n",
    "\n",
    "\n",
    "# renaming columns\n",
    "joined_df = joined_df.withColumnRenamed(\"userId_C\",\"user_id\").\\\n",
    "withColumnRenamed(\"sessionId_c\",\"session_id\")\n",
    "\n",
    "\n",
    "# rearranging column positions\n",
    "song_play_column_list = [\"songplay_id\",\"star_time\",\"user_id\",\"level\",\"song_id\",\"artist_id\",\"session_id\",\"location\",\"userAgent\"]\n",
    "\n",
    "\n",
    "joined_df = joined_df.select(*song_play_column_list).show(1)\n",
    "\n",
    "\n",
    "\n",
    "#joined_df.show(1)\n",
    "\n",
    "#joined_df.select(\"id\").show(5)"
   ]
  },
  {
   "cell_type": "code",
   "execution_count": 16,
   "metadata": {
    "editable": true
   },
   "outputs": [],
   "source": [
    "spark.stop()"
   ]
  },
  {
   "cell_type": "code",
   "execution_count": 17,
   "metadata": {
    "editable": true
   },
   "outputs": [],
   "source": [
    "spark = SparkSession \\\n",
    "        .builder \\\n",
    "        .config(\"spark.jars.packages\", \"org.apache.hadoop:hadoop-aws:2.7.0\") \\\n",
    "        .getOrCreate()"
   ]
  },
  {
   "cell_type": "code",
   "execution_count": 20,
   "metadata": {
    "editable": true
   },
   "outputs": [],
   "source": [
    "spark.stop()"
   ]
  },
  {
   "cell_type": "code",
   "execution_count": null,
   "metadata": {
    "editable": true
   },
   "outputs": [],
   "source": []
  }
 ],
 "metadata": {
  "kernelspec": {
   "display_name": "Python 3",
   "language": "python",
   "name": "python3"
  },
  "language_info": {
   "codemirror_mode": {
    "name": "ipython",
    "version": 3
   },
   "file_extension": ".py",
   "mimetype": "text/x-python",
   "name": "python",
   "nbconvert_exporter": "python",
   "pygments_lexer": "ipython3",
   "version": "3.6.3"
  }
 },
 "nbformat": 4,
 "nbformat_minor": 4
}
